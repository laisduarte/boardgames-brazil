{
 "cells": [
  {
   "cell_type": "code",
   "execution_count": 13,
   "metadata": {},
   "outputs": [],
   "source": [
    "import requests\r\n",
    "from bs4 import BeautifulSoup as soup\r\n",
    "import pandas as pd"
   ]
  },
  {
   "cell_type": "code",
   "execution_count": 14,
   "metadata": {},
   "outputs": [],
   "source": [
    "def buscaSite(website):\r\n",
    "    page_soup = \"Erro\"\r\n",
    "    try:\r\n",
    "        htmlContent = requests.get(website)\r\n",
    "        t = htmlContent.text\r\n",
    "        page_soup = soup (t, \"html.parser\")      \r\n",
    "        return page_soup \r\n",
    "    except:\r\n",
    "        return page_soup\r\n",
    "        pass\r\n",
    "\r\n",
    "websites = []\r\n",
    "arrayIntermediario = []\r\n",
    "newDf = pd.DataFrame()\r\n",
    "\r\n",
    "nome_ficheiro = 'ludopediaDatabase.csv'"
   ]
  },
  {
   "cell_type": "code",
   "execution_count": 15,
   "metadata": {},
   "outputs": [],
   "source": [
    "for x in range(1, 54):\r\n",
    "    site = \"https://www.ludopedia.com.br/ranking?pagina=\" + str (x)\r\n",
    "    page_soup = buscaSite (site)\r\n",
    "    lista = page_soup.findAll (\"div\",{\"class\":\"media-body\"})\r\n",
    "    for item in lista:\r\n",
    "        if item.text.find ('R$') >= 0:\r\n",
    "            continue\r\n",
    "        else:\r\n",
    "            arrayIntermediario.append (item.find('a')['href'])\r\n",
    "            trechoNotas = item.findAll(\"div\",{\"class\":\"rank-info\"})\r\n",
    "            try:\r\n",
    "                notas = trechoNotas[0].findAll('b')\r\n",
    "            except:\r\n",
    "                continue\r\n",
    "            arrayIntermediario.append(notas[0].text) #notaRank\r\n",
    "            arrayIntermediario.append(notas[1].text) #media\r\n",
    "            arrayIntermediario.append(notas[2].text) #numAvaliacoes\r\n",
    "            websites.append (arrayIntermediario)\r\n",
    "            arrayIntermediario = []"
   ]
  },
  {
   "cell_type": "code",
   "execution_count": 22,
   "metadata": {},
   "outputs": [
    {
     "ename": "AttributeError",
     "evalue": "'str' object has no attribute 'findAll'",
     "output_type": "error",
     "traceback": [
      "\u001b[1;31m---------------------------------------------------------------------------\u001b[0m",
      "\u001b[1;31mAttributeError\u001b[0m                            Traceback (most recent call last)",
      "\u001b[1;32m<ipython-input-22-39cd03d93822>\u001b[0m in \u001b[0;36m<module>\u001b[1;34m\u001b[0m\n\u001b[0;32m      4\u001b[0m     \u001b[0mnumAvaliacoes\u001b[0m \u001b[1;33m=\u001b[0m \u001b[0mwebsite\u001b[0m \u001b[1;33m[\u001b[0m\u001b[1;36m3\u001b[0m\u001b[1;33m]\u001b[0m\u001b[1;33m\u001b[0m\u001b[1;33m\u001b[0m\u001b[0m\n\u001b[0;32m      5\u001b[0m     \u001b[0mpage_soup\u001b[0m \u001b[1;33m=\u001b[0m \u001b[0mbuscaSite\u001b[0m \u001b[1;33m(\u001b[0m\u001b[0mwebsite\u001b[0m\u001b[1;33m[\u001b[0m\u001b[1;36m0\u001b[0m\u001b[1;33m]\u001b[0m\u001b[1;33m)\u001b[0m\u001b[1;33m\u001b[0m\u001b[1;33m\u001b[0m\u001b[0m\n\u001b[1;32m----> 6\u001b[1;33m     \u001b[0minfos\u001b[0m \u001b[1;33m=\u001b[0m \u001b[0mpage_soup\u001b[0m\u001b[1;33m.\u001b[0m\u001b[0mfindAll\u001b[0m \u001b[1;33m(\u001b[0m\u001b[1;34m\"div\"\u001b[0m\u001b[1;33m,\u001b[0m\u001b[1;33m{\u001b[0m\u001b[1;34m\"class\"\u001b[0m\u001b[1;33m:\u001b[0m\u001b[1;34m\"jogo-top-main\"\u001b[0m\u001b[1;33m}\u001b[0m\u001b[1;33m)\u001b[0m\u001b[1;33m\u001b[0m\u001b[1;33m\u001b[0m\u001b[0m\n\u001b[0m\u001b[0;32m      7\u001b[0m     \u001b[0mnome\u001b[0m \u001b[1;33m=\u001b[0m \u001b[0minfos\u001b[0m\u001b[1;33m[\u001b[0m\u001b[1;36m0\u001b[0m\u001b[1;33m]\u001b[0m\u001b[1;33m.\u001b[0m\u001b[0mfind\u001b[0m\u001b[1;33m(\u001b[0m\u001b[1;34m'a'\u001b[0m\u001b[1;33m)\u001b[0m\u001b[1;33m.\u001b[0m\u001b[0mtext\u001b[0m\u001b[1;33m\u001b[0m\u001b[1;33m\u001b[0m\u001b[0m\n\u001b[0;32m      8\u001b[0m     \u001b[0mano\u001b[0m \u001b[1;33m=\u001b[0m \u001b[0minfos\u001b[0m\u001b[1;33m[\u001b[0m\u001b[1;36m0\u001b[0m\u001b[1;33m]\u001b[0m\u001b[1;33m.\u001b[0m\u001b[0mfind\u001b[0m\u001b[1;33m(\u001b[0m\u001b[1;34m'span'\u001b[0m\u001b[1;33m,\u001b[0m\u001b[1;33m{\u001b[0m\u001b[1;34m'class'\u001b[0m\u001b[1;33m:\u001b[0m\u001b[1;34m\"text-xs\"\u001b[0m\u001b[1;33m}\u001b[0m\u001b[1;33m)\u001b[0m\u001b[1;33m.\u001b[0m\u001b[0mtext\u001b[0m\u001b[1;33m\u001b[0m\u001b[1;33m\u001b[0m\u001b[0m\n",
      "\u001b[1;31mAttributeError\u001b[0m: 'str' object has no attribute 'findAll'"
     ]
    }
   ],
   "source": [
    "for website in websites:\r\n",
    "    notaRank = website[1]\r\n",
    "    notaMedia = website [2]\r\n",
    "    numAvaliacoes = website [3]\r\n",
    "    page_soup = buscaSite (website[0])\r\n",
    "    infos = page_soup.findAll (\"div\",{\"class\":\"jogo-top-main\"})\r\n",
    "    nome = infos[0].find('a').text\r\n",
    "    ano = infos[0].find('span',{'class':\"text-xs\"}).text\r\n",
    "    detalhes = infos[0].ul.findAll ('li')"
   ]
  },
  {
   "cell_type": "code",
   "execution_count": 21,
   "metadata": {},
   "outputs": [
    {
     "data": {
      "text/plain": [
       "'(2017)'"
      ]
     },
     "execution_count": 21,
     "metadata": {},
     "output_type": "execute_result"
    }
   ],
   "source": [
    "infos[0].find('span',{'class':\"text-xs\"}).text"
   ]
  }
 ],
 "metadata": {
  "interpreter": {
   "hash": "8e61c9422603e3d3820d3aeca1b8eefe471d1a1023a28a3903412dc32402bf43"
  },
  "kernelspec": {
   "display_name": "Python 3.7.3 32-bit",
   "name": "python3"
  },
  "language_info": {
   "codemirror_mode": {
    "name": "ipython",
    "version": 3
   },
   "file_extension": ".py",
   "mimetype": "text/x-python",
   "name": "python",
   "nbconvert_exporter": "python",
   "pygments_lexer": "ipython3",
   "version": "3.8.8"
  },
  "orig_nbformat": 4
 },
 "nbformat": 4,
 "nbformat_minor": 2
}