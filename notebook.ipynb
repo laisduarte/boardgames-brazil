{
 "cells": [
  {
   "cell_type": "code",
   "execution_count": 5,
   "metadata": {},
   "outputs": [],
   "source": [
    "import requests\r\n",
    "from bs4 import BeautifulSoup as soup\r\n",
    "import pandas as pd"
   ]
  },
  {
   "cell_type": "code",
   "execution_count": 6,
   "metadata": {},
   "outputs": [],
   "source": [
    "def buscaSite(website):\r\n",
    "    page_soup = \"Erro\"\r\n",
    "    try:\r\n",
    "        htmlContent = requests.get(website)\r\n",
    "        t = htmlContent.text\r\n",
    "        page_soup = soup (t, \"html.parser\")      \r\n",
    "        return page_soup \r\n",
    "    except:\r\n",
    "        return page_soup\r\n",
    "        pass\r\n",
    "\r\n",
    "websites = []\r\n",
    "arrayIntermediario = []\r\n",
    "newDf = pd.DataFrame()\r\n",
    "\r\n",
    "nome_ficheiro = 'ludopediaDatabase.csv'"
   ]
  },
  {
   "cell_type": "code",
   "execution_count": null,
   "metadata": {},
   "outputs": [],
   "source": [
    "for x in range(1, 54):\r\n",
    "    site = \"https://www.ludopedia.com.br/ranking?pagina=\" + str (x)\r\n",
    "    page_soup = buscaSite (site)\r\n",
    "    lista = page_soup.findAll (\"div\",{\"class\":\"media-body\"})\r\n",
    "    for item in lista:\r\n",
    "        if item.text.find ('R$') >= 0:\r\n",
    "            continue\r\n",
    "        else:\r\n",
    "            arrayIntermediario.append (item.find('a')['href'])\r\n",
    "            trechoNotas = item.findAll(\"div\",{\"class\":\"rank-info\"})\r\n",
    "            try:\r\n",
    "                notas = trechoNotas[0].findAll('b')\r\n",
    "            except:\r\n",
    "                continue\r\n",
    "            arrayIntermediario.append(notas[0].text) #notaRank\r\n",
    "            arrayIntermediario.append(notas[1].text) #media\r\n",
    "            arrayIntermediario.append(notas[2].text) #numAvaliacoes\r\n",
    "            websites.append (arrayIntermediario)\r\n",
    "            arrayIntermediario = []"
   ]
  },
  {
   "cell_type": "code",
   "execution_count": 8,
   "metadata": {},
   "outputs": [],
   "source": [
    "for website in websites:\r\n",
    "    print (website)\r\n",
    "    notaRank = website[1]\r\n",
    "    print (notaRank)\r\n",
    "    notaMedia = website [2]\r\n",
    "    print (notaMedia)\r\n",
    "    numAvaliacoes = website [3]\r\n",
    "    print (numAvaliacoes)\r\n",
    "    page_soup = buscaSite (website[0])\r\n",
    "    infos = page_soup.findAll (\"div\",{\"class\":\"jogo-top-main\"})\r\n",
    "    print (infos)\r\n",
    "    nome = infos[0].find('a').text\r\n",
    "    print (nome)\r\n",
    "    ano = infos[0].find('span',{'class':\" text-xs\"}).text\r\n",
    "    detalhes = infos[0].ul.findAll ('li')"
   ]
  }
 ],
 "metadata": {
  "interpreter": {
   "hash": "8e61c9422603e3d3820d3aeca1b8eefe471d1a1023a28a3903412dc32402bf43"
  },
  "kernelspec": {
   "display_name": "Python 3.7.3 32-bit",
   "name": "python3"
  },
  "language_info": {
   "codemirror_mode": {
    "name": "ipython",
    "version": 3
   },
   "file_extension": ".py",
   "mimetype": "text/x-python",
   "name": "python",
   "nbconvert_exporter": "python",
   "pygments_lexer": "ipython3",
   "version": "3.8.8"
  },
  "orig_nbformat": 4
 },
 "nbformat": 4,
 "nbformat_minor": 2
}